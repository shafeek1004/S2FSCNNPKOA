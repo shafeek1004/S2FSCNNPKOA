{
 "cells": [
  {
   "cell_type": "code",
   "execution_count": null,
   "id": "e80eff66-61a0-4d65-9c4d-1183183a3021",
   "metadata": {},
   "outputs": [],
   "source": [
    "import pickle\n",
    "import numpy as np\n",
    "import os\n",
    "from scipy.signal import butter, lfilter\n",
    "import matplotlib.pyplot as plt\n",
    "\n",
    "def load_deap_dat(file_path):\n",
    "    with open(file_path, 'rb') as file:\n",
    "        subject_data = pickle.load(file, encoding='latin1')\n",
    "    return subject_data['data'][:, :32, :]\n",
    "\n",
    "def butter_bandpass(lowcut, highcut, fs, order=5):\n",
    "    nyq = 0.5 * fs\n",
    "    return butter(order, [lowcut / nyq, highcut / nyq], btype='band')\n",
    "\n",
    "def bandpass_filter(data, lowcut=4, highcut=30, fs=128, order=5):\n",
    "    b, a = butter_bandpass(lowcut, highcut, fs, order=order)\n",
    "    return lfilter(b, a, data)\n",
    "\n",
    "def bilateral_filter(signal_data, epsilon_i=0.1, epsilon_m=0.1, window_size=5):\n",
    "    half_window = window_size // 2\n",
    "    filtered = np.zeros_like(signal_data)\n",
    "    for i in range(len(signal_data)):\n",
    "        weights = []\n",
    "        values = []\n",
    "        for j in range(-half_window, half_window + 1):\n",
    "            idx = i + j\n",
    "            if 0 <= idx < len(signal_data):\n",
    "                t_weight = np.exp(-(j ** 2) / (2 * epsilon_i ** 2))\n",
    "                a_weight = np.exp(-((signal_data[idx] - signal_data[i]) ** 2) / (2 * epsilon_m ** 2))\n",
    "                w = t_weight * a_weight\n",
    "                weights.append(w)\n",
    "                values.append(w * signal_data[idx])\n",
    "        filtered[i] = np.sum(values) / (np.sum(weights) + 1e-8)\n",
    "    return filtered\n",
    "\n",
    "def DBLSHF(signal_data, epsilon_i=0.3, epsilon_m=0.2, lambd=1.2):\n",
    "    base_layer = bilateral_filter(signal_data, epsilon_i, epsilon_m)\n",
    "    detail_layer = signal_data - base_layer\n",
    "    smoothed_signal = signal_data + lambd * detail_layer\n",
    "    final_preprocessed = bilateral_filter(smoothed_signal, epsilon_i, epsilon_m)\n",
    "    \n",
    "    return final_preprocessed, base_layer, detail_layer, smoothed_signal\n",
    "\n",
    "def process_trial(eeg_trial, fs=128):\n",
    "    processed_channels = []\n",
    "    for ch in eeg_trial:\n",
    "        filtered = bandpass_filter(ch, fs=fs)\n",
    "        final_output, _, _, _ = DBLSHF(filtered)\n",
    "        processed_channels.append(final_output)\n",
    "    return np.array(processed_channels)\n",
    "\n"
   ]
  }
 ],
 "metadata": {
  "kernelspec": {
   "display_name": "Python 3 (ipykernel)",
   "language": "python",
   "name": "python3"
  },
  "language_info": {
   "codemirror_mode": {
    "name": "ipython",
    "version": 3
   },
   "file_extension": ".py",
   "mimetype": "text/x-python",
   "name": "python",
   "nbconvert_exporter": "python",
   "pygments_lexer": "ipython3",
   "version": "3.13.5"
  }
 },
 "nbformat": 4,
 "nbformat_minor": 5
}
